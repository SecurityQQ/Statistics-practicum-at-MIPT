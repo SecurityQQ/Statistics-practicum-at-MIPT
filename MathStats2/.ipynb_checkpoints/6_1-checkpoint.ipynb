{
 "cells": [
  {
   "cell_type": "code",
   "execution_count": 76,
   "metadata": {
    "collapsed": true
   },
   "outputs": [],
   "source": [
    "__author__ = 'Security'\n",
    "import numpy as np\n",
    "import scipy.stats as stats\n",
    "%matplotlib inline\n",
    "import matplotlib.pyplot as plt\n",
    "from math import ceil"
   ]
  },
  {
   "cell_type": "code",
   "execution_count": 77,
   "metadata": {
    "collapsed": false
   },
   "outputs": [],
   "source": [
    "file_data = [float(line.rstrip('\\n')) for line in open('6_1.txt', 'r')]"
   ]
  },
  {
   "cell_type": "code",
   "execution_count": 78,
   "metadata": {
    "collapsed": false
   },
   "outputs": [
    {
     "name": "stdout",
     "output_type": "stream",
     "text": [
      "0.391\n",
      "[2.989, 4.734, 5.03, 6.598, 11.419, 11.861, 14.463, 15.359, 16.203, 16.829, 18.323, 18.398, 22.927, 25.394, 26.972, 33.95, 37.646, 39.666, 43.411, 46.034, 48.716]\n"
     ]
    }
   ],
   "source": [
    "lambd = file_data[0]\n",
    "print(lambd)  # \\lambda из условия\n",
    "broken_pc = file_data[1:]  # время, когда ломаются компьютеры\n",
    "print(times)"
   ]
  },
  {
   "cell_type": "code",
   "execution_count": 79,
   "metadata": {
    "collapsed": false
   },
   "outputs": [],
   "source": [
    "t_0 = 1\n",
    "t = 60"
   ]
  },
  {
   "cell_type": "markdown",
   "metadata": {},
   "source": [
    "Заметим, что $E(N_t|N_s) = E(N_t - N_s + N_s|N_s) = E(N_t-N_s)+N_s$, ибо $N_t-N_s$ и $N_s$ независимы по условию, а $N_s$, безусловно, является $N_s$ - измеримой случайной величиной. $E(N_t-N_s) = \\lambda(t-s) \\implies E(N_t|N_s) = \\lambda(t-s) + N_s$"
   ]
  },
  {
   "cell_type": "code",
   "execution_count": 67,
   "metadata": {
    "collapsed": true
   },
   "outputs": [],
   "source": [
    "def time_expectation(Ns, s, t):  #подсчет условного мат. ожидания\n",
    "    return lambd * (t - s) + Ns"
   ]
  },
  {
   "cell_type": "markdown",
   "metadata": {},
   "source": [
    "#### Смоделируем предсказания:"
   ]
  },
  {
   "cell_type": "code",
   "execution_count": 75,
   "metadata": {
    "collapsed": false
   },
   "outputs": [
    {
     "name": "stdout",
     "output_type": "stream",
     "text": [
      "Current time: 0 Expecting value of PC: 24\n",
      "Current time: 1 Expecting value of PC: 24\n",
      "Current time: 2 Expecting value of PC: 23\n",
      "Current time: 3 Expecting value of PC: 24\n",
      "Current time: 4 Expecting value of PC: 23\n",
      "Current time: 5 Expecting value of PC: 24\n",
      "Current time: 6 Expecting value of PC: 25\n",
      "Current time: 7 Expecting value of PC: 25\n",
      "Current time: 8 Expecting value of PC: 25\n",
      "Current time: 9 Expecting value of PC: 24\n",
      "Current time: 10 Expecting value of PC: 24\n",
      "Current time: 11 Expecting value of PC: 24\n",
      "Current time: 12 Expecting value of PC: 25\n",
      "Current time: 13 Expecting value of PC: 25\n",
      "Current time: 14 Expecting value of PC: 24\n",
      "Current time: 15 Expecting value of PC: 25\n",
      "Current time: 16 Expecting value of PC: 26\n",
      "Current time: 17 Expecting value of PC: 27\n",
      "Current time: 18 Expecting value of PC: 27\n",
      "Current time: 19 Expecting value of PC: 29\n",
      "Current time: 20 Expecting value of PC: 28\n",
      "Current time: 21 Expecting value of PC: 28\n",
      "Current time: 22 Expecting value of PC: 27\n",
      "Current time: 23 Expecting value of PC: 28\n",
      "Current time: 24 Expecting value of PC: 28\n",
      "Current time: 25 Expecting value of PC: 27\n",
      "Current time: 26 Expecting value of PC: 28\n",
      "Current time: 27 Expecting value of PC: 28\n",
      "Current time: 28 Expecting value of PC: 28\n",
      "Current time: 29 Expecting value of PC: 28\n",
      "Current time: 30 Expecting value of PC: 27\n",
      "Current time: 31 Expecting value of PC: 27\n",
      "Current time: 32 Expecting value of PC: 26\n",
      "Current time: 33 Expecting value of PC: 26\n",
      "Current time: 34 Expecting value of PC: 27\n",
      "Current time: 35 Expecting value of PC: 26\n",
      "Current time: 36 Expecting value of PC: 26\n",
      "Current time: 37 Expecting value of PC: 25\n",
      "Current time: 38 Expecting value of PC: 26\n",
      "Current time: 39 Expecting value of PC: 26\n",
      "Current time: 40 Expecting value of PC: 26\n",
      "Current time: 41 Expecting value of PC: 26\n",
      "Current time: 42 Expecting value of PC: 26\n",
      "Current time: 43 Expecting value of PC: 25\n",
      "Current time: 44 Expecting value of PC: 26\n",
      "Current time: 45 Expecting value of PC: 25\n",
      "Current time: 46 Expecting value of PC: 25\n",
      "Current time: 47 Expecting value of PC: 26\n",
      "Current time: 48 Expecting value of PC: 25\n",
      "Current time: 49 Expecting value of PC: 26\n",
      "Current time: 50 Expecting value of PC: 25\n",
      "Current time: 51 Expecting value of PC: 25\n",
      "Current time: 52 Expecting value of PC: 25\n",
      "Current time: 53 Expecting value of PC: 24\n",
      "Current time: 54 Expecting value of PC: 24\n",
      "Current time: 55 Expecting value of PC: 23\n",
      "Current time: 56 Expecting value of PC: 23\n",
      "Current time: 57 Expecting value of PC: 23\n",
      "Current time: 58 Expecting value of PC: 22\n",
      "Current time: 59 Expecting value of PC: 22\n",
      "Current time: 60 Expecting value of PC: 21\n"
     ]
    }
   ],
   "source": [
    "Ns = 0\n",
    "broken_pc_id = 0\n",
    "for current_time in range(0, t+1, t_0):\n",
    "    while broken_pc_id < len(broken_pc) and broken_pc[broken_pc_id] < current_time:\n",
    "        Ns += 1\n",
    "        broken_pc_id += 1                                                       )\n",
    "    print(\"Current time: \" + str(current_time) + \" Expecting value of PC: \" + str(ceil(time_expectation(Ns, current_time, t))))\n",
    "    #количество компьютеров будем округлять вверх с помощью функции ceil\n",
    "    "
   ]
  },
  {
   "cell_type": "markdown",
   "metadata": {},
   "source": [
    "Заметим, что при появлении очередной поломки предсказание на закупку компьютеров увеличивается. Особенно это заметно на 19 секунде, когда сломалось много компьютеров подряд."
   ]
  },
  {
   "cell_type": "code",
   "execution_count": null,
   "metadata": {
    "collapsed": true
   },
   "outputs": [],
   "source": []
  }
 ],
 "metadata": {
  "kernelspec": {
   "display_name": "Python 3",
   "language": "python",
   "name": "python3"
  },
  "language_info": {
   "codemirror_mode": {
    "name": "ipython",
    "version": 3
   },
   "file_extension": ".py",
   "mimetype": "text/x-python",
   "name": "python",
   "nbconvert_exporter": "python",
   "pygments_lexer": "ipython3",
   "version": "3.4.3"
  }
 },
 "nbformat": 4,
 "nbformat_minor": 0
}
