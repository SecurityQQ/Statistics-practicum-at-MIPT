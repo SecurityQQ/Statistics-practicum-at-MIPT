{
 "cells": [
  {
   "cell_type": "code",
   "execution_count": 14,
   "metadata": {
    "collapsed": true
   },
   "outputs": [],
   "source": [
    "import numpy as np\n",
    "import matplotlib.pyplot as plt\n",
    "import scipy.stats as stats\n",
    "%matplotlib inline"
   ]
  },
  {
   "cell_type": "code",
   "execution_count": 53,
   "metadata": {
    "collapsed": false
   },
   "outputs": [],
   "source": [
    "sample = np.array([float(line.rstrip('\\n')) for line in open('9_2_Malyshev.txt', 'r')])"
   ]
  },
  {
   "cell_type": "markdown",
   "metadata": {},
   "source": [
    "Т.к. $X_i = \\beta_1 + i\\beta_2 + \\varepsilon_0 + \\ldots + \\varepsilon_i$, то\n",
    "$$X_0 = \\beta_1 + \\varepsilon_0$$\n",
    "$$X_1 - X_0 = \\beta_2 + \\varepsilon_1$$\n",
    "$$\\ldots$$\n",
    "$$X_n - X_{n-1} = \\beta_2 + \\varepsilon_n$$\n",
    "\n",
    "Получаем линейно-регрессионную модель для $\\vec{Y} = (X_0, X_1 - X_0, \\ldots, X_n - X_{n-1})^{T}$\n",
    "$$\\vec{Y} = Z(\\beta_1, \\beta_2)^{T} + \\vec{\\epsilon}$$"
   ]
  },
  {
   "cell_type": "code",
   "execution_count": 54,
   "metadata": {
    "collapsed": false
   },
   "outputs": [],
   "source": [
    "Y = np.array([sample[0]] + [sample[i] - sample[i-1] for i in range(1, len(sample))])"
   ]
  },
  {
   "cell_type": "code",
   "execution_count": 59,
   "metadata": {
    "collapsed": false
   },
   "outputs": [],
   "source": [
    "n = len(sample)\n",
    "Z = np.array([[1, 0]] + [[0, 1] for i in range(n-1)])"
   ]
  },
  {
   "cell_type": "markdown",
   "metadata": {},
   "source": [
    "Учитывая, что оценка $(\\beta_1, \\beta_2)$ равна $$(\\hat{\\beta}_1, \\hat{\\beta}_2)^{T} = (Z^{T}Z)^{-1}Z^{T}\\vec{Y}$$"
   ]
  },
  {
   "cell_type": "code",
   "execution_count": 60,
   "metadata": {
    "collapsed": true
   },
   "outputs": [],
   "source": [
    "def estimation_of_bettas(Y, Z):\n",
    "    return np.dot(np.dot(np.linalg.inv(np.dot(Z.transpose(),Z)),Z.transpose()),Y)  # dot - операция умножения матриц"
   ]
  },
  {
   "cell_type": "code",
   "execution_count": 75,
   "metadata": {
    "collapsed": false
   },
   "outputs": [
    {
     "name": "stdout",
     "output_type": "stream",
     "text": [
      "[ 626.348568      6.05324828]\n"
     ]
    }
   ],
   "source": [
    "betas_est = estimation_of_bettas(Y, Z)\n",
    "print(betas_est)  # оценка \\beta_1, \\beta_2"
   ]
  },
  {
   "cell_type": "markdown",
   "metadata": {},
   "source": [
    "Несмещенная оценка $\\sigma^2$ равна$$\\hat{\\sigma}^2 = \\frac{1}{n-1}|Y - Z\\hat\\Theta|^2 = \\frac{1}{n-1}\\sum(Y_i - \\overline Y)^2$$"
   ]
  },
  {
   "cell_type": "code",
   "execution_count": 70,
   "metadata": {
    "collapsed": true
   },
   "outputs": [],
   "source": [
    "def sigma_sqrt_estimation(Y):\n",
    "    n = len(Y[1:])  # т.к. мы берем \\epsilon_i, где i ≥ 1\n",
    "    avg = np.average(Y[1:])\n",
    "    return 1/(n-1) * np.sum((Y[1:] - avg)**2)"
   ]
  },
  {
   "cell_type": "code",
   "execution_count": 79,
   "metadata": {
    "collapsed": false
   },
   "outputs": [
    {
     "name": "stdout",
     "output_type": "stream",
     "text": [
      "0.04673124236\n"
     ]
    }
   ],
   "source": [
    "sigma_sqrt = sigma_sqrt_estimation(Y)  #оценка \\sigma^2\n",
    "print(sigma_sqrt)"
   ]
  },
  {
   "cell_type": "markdown",
   "metadata": {},
   "source": [
    "Из соотношения $\\varepsilon_i = \\varepsilon_i^t \\beta_2 $ оценка $\\sigma^2_{t}$ равна $$\\hat{\\sigma}^2_{t} = \\frac{\\sigma^2}{\\beta^2_2}$$"
   ]
  },
  {
   "cell_type": "code",
   "execution_count": 76,
   "metadata": {
    "collapsed": true
   },
   "outputs": [],
   "source": [
    "sigma_sqrt_t = sigma_sqrt / betas_est[1]"
   ]
  },
  {
   "cell_type": "code",
   "execution_count": 77,
   "metadata": {
    "collapsed": false
   },
   "outputs": [
    {
     "name": "stdout",
     "output_type": "stream",
     "text": [
      "0.00772002735931\n"
     ]
    }
   ],
   "source": [
    "print(sigma_sqrt_t)"
   ]
  },
  {
   "cell_type": "markdown",
   "metadata": {},
   "source": [
    "#### Вывод.\n",
    "Оценка начального растояния равна\n",
    "$$\\hat{\\beta}_1 = 626.348568$$\n",
    "скорость равна\n",
    "$$\\hat{\\beta}_2 = 6.05324828$$\n",
    "дисперсия ошибки равна\n",
    "$$\\hat{\\sigma^2} = 0.04673124236,$$\n",
    "а оценка дисперсии отчета времени равна\n",
    "$$\\hat{\\sigma^2_t} = 0.00772002735931.$$"
   ]
  }
 ],
 "metadata": {
  "kernelspec": {
   "display_name": "Python 3",
   "language": "python",
   "name": "python3"
  },
  "language_info": {
   "codemirror_mode": {
    "name": "ipython",
    "version": 3
   },
   "file_extension": ".py",
   "mimetype": "text/x-python",
   "name": "python",
   "nbconvert_exporter": "python",
   "pygments_lexer": "ipython3",
   "version": "3.4.3"
  }
 },
 "nbformat": 4,
 "nbformat_minor": 0
}
