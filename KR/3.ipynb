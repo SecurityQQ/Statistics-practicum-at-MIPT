{
 "cells": [
  {
   "cell_type": "code",
   "execution_count": 1,
   "metadata": {
    "collapsed": true
   },
   "outputs": [],
   "source": [
    "import numpy as np\n",
    "import matplotlib.pyplot as plt\n",
    "import scipy.stats as stats\n",
    "%matplotlib inline\n",
    "import csv\n",
    "import pandas\n",
    "import random"
   ]
  },
  {
   "cell_type": "code",
   "execution_count": 4,
   "metadata": {
    "collapsed": true
   },
   "outputs": [],
   "source": [
    "import numpy as np\n",
    "\n",
    "names, marks = [], []\n",
    "with open('marks.csv') as f:\n",
    "    for line in f:\n",
    "        split_line = list(map(lambda x: '0' if x == '' else x, line[:-1].split(',')))\n",
    "        names.append(split_line[0])\n",
    "        marks.append(list(map(int, split_line[1:])))\n",
    "\n",
    "marks = np.array(marks)"
   ]
  },
  {
   "cell_type": "code",
   "execution_count": null,
   "metadata": {
    "collapsed": true
   },
   "outputs": [],
   "source": [
    "data = []\n",
    "csvfile = open('forestfires.csv')\n",
    "file_data = pandas.read_csv(csvfile)\n",
    "\n",
    "del file_data['day']  # убираем значение дня\n",
    "file_data['a'] = 1  # добавляем фиктивный столбец\n",
    "for i in range(len(file_data)):\n",
    "    file_data.loc[i,'month'] = float(months[file_data.loc[i, 'month']])  # преобразуем месяц к числовому типу"
   ]
  }
 ],
 "metadata": {
  "kernelspec": {
   "display_name": "Python 3",
   "language": "python",
   "name": "python3"
  },
  "language_info": {
   "codemirror_mode": {
    "name": "ipython",
    "version": 3
   },
   "file_extension": ".py",
   "mimetype": "text/x-python",
   "name": "python",
   "nbconvert_exporter": "python",
   "pygments_lexer": "ipython3",
   "version": "3.4.3"
  }
 },
 "nbformat": 4,
 "nbformat_minor": 0
}
