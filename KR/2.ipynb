{
 "cells": [
  {
   "cell_type": "code",
   "execution_count": 240,
   "metadata": {
    "collapsed": true
   },
   "outputs": [],
   "source": [
    "import numpy as np\n",
    "import matplotlib.pyplot as plt\n",
    "import scipy.stats as stats\n",
    "%matplotlib inline\n",
    "import csv\n",
    "import pandas\n",
    "import copy\n",
    "import random"
   ]
  },
  {
   "cell_type": "code",
   "execution_count": 172,
   "metadata": {
    "collapsed": true
   },
   "outputs": [],
   "source": [
    "csvfile = open('0.csv')\n",
    "file_data = pandas.read_csv(csvfile, header=None)"
   ]
  },
  {
   "cell_type": "code",
   "execution_count": 222,
   "metadata": {
    "collapsed": false
   },
   "outputs": [
    {
     "data": {
      "text/html": [
       "<div>\n",
       "<table border=\"1\" class=\"dataframe\">\n",
       "  <thead>\n",
       "    <tr style=\"text-align: right;\">\n",
       "      <th></th>\n",
       "      <th>0</th>\n",
       "      <th>1</th>\n",
       "      <th>2</th>\n",
       "      <th>3</th>\n",
       "      <th>4</th>\n",
       "    </tr>\n",
       "  </thead>\n",
       "  <tbody>\n",
       "    <tr>\n",
       "      <th>0</th>\n",
       "      <td>2.406640</td>\n",
       "      <td>1.0</td>\n",
       "      <td>2.569265</td>\n",
       "      <td>1.134234</td>\n",
       "      <td>0.009986</td>\n",
       "    </tr>\n",
       "    <tr>\n",
       "      <th>1</th>\n",
       "      <td>3.579147</td>\n",
       "      <td>1.0</td>\n",
       "      <td>1.817105</td>\n",
       "      <td>1.008626</td>\n",
       "      <td>0.009992</td>\n",
       "    </tr>\n",
       "    <tr>\n",
       "      <th>2</th>\n",
       "      <td>2.076401</td>\n",
       "      <td>1.0</td>\n",
       "      <td>9.596029</td>\n",
       "      <td>4.560576</td>\n",
       "      <td>0.009950</td>\n",
       "    </tr>\n",
       "    <tr>\n",
       "      <th>3</th>\n",
       "      <td>2.801457</td>\n",
       "      <td>1.0</td>\n",
       "      <td>7.617839</td>\n",
       "      <td>3.754187</td>\n",
       "      <td>0.009961</td>\n",
       "    </tr>\n",
       "    <tr>\n",
       "      <th>4</th>\n",
       "      <td>4.049240</td>\n",
       "      <td>1.0</td>\n",
       "      <td>7.622255</td>\n",
       "      <td>4.005385</td>\n",
       "      <td>0.009964</td>\n",
       "    </tr>\n",
       "    <tr>\n",
       "      <th>5</th>\n",
       "      <td>5.330127</td>\n",
       "      <td>1.0</td>\n",
       "      <td>5.145334</td>\n",
       "      <td>3.119443</td>\n",
       "      <td>0.009980</td>\n",
       "    </tr>\n",
       "    <tr>\n",
       "      <th>6</th>\n",
       "      <td>29.179641</td>\n",
       "      <td>1.0</td>\n",
       "      <td>5.182616</td>\n",
       "      <td>9.126426</td>\n",
       "      <td>0.010039</td>\n",
       "    </tr>\n",
       "    <tr>\n",
       "      <th>7</th>\n",
       "      <td>2.558586</td>\n",
       "      <td>1.0</td>\n",
       "      <td>6.678984</td>\n",
       "      <td>3.211991</td>\n",
       "      <td>0.009965</td>\n",
       "    </tr>\n",
       "    <tr>\n",
       "      <th>8</th>\n",
       "      <td>29.993368</td>\n",
       "      <td>1.0</td>\n",
       "      <td>5.908428</td>\n",
       "      <td>9.667707</td>\n",
       "      <td>0.010038</td>\n",
       "    </tr>\n",
       "    <tr>\n",
       "      <th>9</th>\n",
       "      <td>17.700366</td>\n",
       "      <td>1.0</td>\n",
       "      <td>4.041164</td>\n",
       "      <td>5.650604</td>\n",
       "      <td>0.010016</td>\n",
       "    </tr>\n",
       "    <tr>\n",
       "      <th>10</th>\n",
       "      <td>35.702711</td>\n",
       "      <td>1.0</td>\n",
       "      <td>2.318203</td>\n",
       "      <td>9.281217</td>\n",
       "      <td>0.010070</td>\n",
       "    </tr>\n",
       "    <tr>\n",
       "      <th>11</th>\n",
       "      <td>28.894473</td>\n",
       "      <td>1.0</td>\n",
       "      <td>0.034924</td>\n",
       "      <td>6.475359</td>\n",
       "      <td>0.010064</td>\n",
       "    </tr>\n",
       "    <tr>\n",
       "      <th>12</th>\n",
       "      <td>19.010946</td>\n",
       "      <td>1.0</td>\n",
       "      <td>4.640148</td>\n",
       "      <td>6.328101</td>\n",
       "      <td>0.010017</td>\n",
       "    </tr>\n",
       "    <tr>\n",
       "      <th>13</th>\n",
       "      <td>-2.120491</td>\n",
       "      <td>1.0</td>\n",
       "      <td>4.320935</td>\n",
       "      <td>0.879485</td>\n",
       "      <td>0.009966</td>\n",
       "    </tr>\n",
       "    <tr>\n",
       "      <th>14</th>\n",
       "      <td>-14.147678</td>\n",
       "      <td>1.0</td>\n",
       "      <td>9.818802</td>\n",
       "      <td>0.573952</td>\n",
       "      <td>0.009908</td>\n",
       "    </tr>\n",
       "    <tr>\n",
       "      <th>15</th>\n",
       "      <td>13.152587</td>\n",
       "      <td>1.0</td>\n",
       "      <td>5.809111</td>\n",
       "      <td>5.404296</td>\n",
       "      <td>0.009996</td>\n",
       "    </tr>\n",
       "    <tr>\n",
       "      <th>16</th>\n",
       "      <td>-0.370242</td>\n",
       "      <td>1.0</td>\n",
       "      <td>6.633755</td>\n",
       "      <td>2.452018</td>\n",
       "      <td>0.009958</td>\n",
       "    </tr>\n",
       "    <tr>\n",
       "      <th>17</th>\n",
       "      <td>3.312297</td>\n",
       "      <td>1.0</td>\n",
       "      <td>0.138424</td>\n",
       "      <td>0.118587</td>\n",
       "      <td>0.010000</td>\n",
       "    </tr>\n",
       "    <tr>\n",
       "      <th>18</th>\n",
       "      <td>14.005199</td>\n",
       "      <td>1.0</td>\n",
       "      <td>0.640186</td>\n",
       "      <td>3.077951</td>\n",
       "      <td>0.010024</td>\n",
       "    </tr>\n",
       "    <tr>\n",
       "      <th>19</th>\n",
       "      <td>36.211635</td>\n",
       "      <td>1.0</td>\n",
       "      <td>2.202510</td>\n",
       "      <td>9.393952</td>\n",
       "      <td>0.010072</td>\n",
       "    </tr>\n",
       "    <tr>\n",
       "      <th>20</th>\n",
       "      <td>15.047038</td>\n",
       "      <td>1.0</td>\n",
       "      <td>0.365499</td>\n",
       "      <td>3.193378</td>\n",
       "      <td>0.010028</td>\n",
       "    </tr>\n",
       "    <tr>\n",
       "      <th>21</th>\n",
       "      <td>37.983204</td>\n",
       "      <td>1.0</td>\n",
       "      <td>0.605489</td>\n",
       "      <td>9.032790</td>\n",
       "      <td>0.010084</td>\n",
       "    </tr>\n",
       "    <tr>\n",
       "      <th>22</th>\n",
       "      <td>20.637118</td>\n",
       "      <td>1.0</td>\n",
       "      <td>2.885253</td>\n",
       "      <td>5.800160</td>\n",
       "      <td>0.010029</td>\n",
       "    </tr>\n",
       "    <tr>\n",
       "      <th>23</th>\n",
       "      <td>6.498452</td>\n",
       "      <td>1.0</td>\n",
       "      <td>2.708371</td>\n",
       "      <td>2.203921</td>\n",
       "      <td>0.009995</td>\n",
       "    </tr>\n",
       "    <tr>\n",
       "      <th>24</th>\n",
       "      <td>28.253326</td>\n",
       "      <td>1.0</td>\n",
       "      <td>2.439213</td>\n",
       "      <td>7.479187</td>\n",
       "      <td>0.010050</td>\n",
       "    </tr>\n",
       "    <tr>\n",
       "      <th>25</th>\n",
       "      <td>-5.695008</td>\n",
       "      <td>1.0</td>\n",
       "      <td>5.941358</td>\n",
       "      <td>0.761990</td>\n",
       "      <td>0.009948</td>\n",
       "    </tr>\n",
       "    <tr>\n",
       "      <th>26</th>\n",
       "      <td>13.820767</td>\n",
       "      <td>1.0</td>\n",
       "      <td>0.815237</td>\n",
       "      <td>3.090816</td>\n",
       "      <td>0.010023</td>\n",
       "    </tr>\n",
       "    <tr>\n",
       "      <th>27</th>\n",
       "      <td>11.395932</td>\n",
       "      <td>1.0</td>\n",
       "      <td>1.808344</td>\n",
       "      <td>2.982184</td>\n",
       "      <td>0.010012</td>\n",
       "    </tr>\n",
       "    <tr>\n",
       "      <th>28</th>\n",
       "      <td>23.567673</td>\n",
       "      <td>1.0</td>\n",
       "      <td>1.784390</td>\n",
       "      <td>5.980605</td>\n",
       "      <td>0.010042</td>\n",
       "    </tr>\n",
       "    <tr>\n",
       "      <th>29</th>\n",
       "      <td>32.757090</td>\n",
       "      <td>1.0</td>\n",
       "      <td>1.618274</td>\n",
       "      <td>8.242092</td>\n",
       "      <td>0.010066</td>\n",
       "    </tr>\n",
       "    <tr>\n",
       "      <th>...</th>\n",
       "      <td>...</td>\n",
       "      <td>...</td>\n",
       "      <td>...</td>\n",
       "      <td>...</td>\n",
       "      <td>...</td>\n",
       "    </tr>\n",
       "    <tr>\n",
       "      <th>970</th>\n",
       "      <td>19.825640</td>\n",
       "      <td>1.0</td>\n",
       "      <td>2.984733</td>\n",
       "      <td>5.677481</td>\n",
       "      <td>0.010027</td>\n",
       "    </tr>\n",
       "    <tr>\n",
       "      <th>971</th>\n",
       "      <td>5.241898</td>\n",
       "      <td>1.0</td>\n",
       "      <td>4.032216</td>\n",
       "      <td>2.506540</td>\n",
       "      <td>0.009985</td>\n",
       "    </tr>\n",
       "    <tr>\n",
       "      <th>972</th>\n",
       "      <td>0.519956</td>\n",
       "      <td>1.0</td>\n",
       "      <td>3.612462</td>\n",
       "      <td>1.193987</td>\n",
       "      <td>0.009976</td>\n",
       "    </tr>\n",
       "    <tr>\n",
       "      <th>973</th>\n",
       "      <td>-0.422038</td>\n",
       "      <td>1.0</td>\n",
       "      <td>3.858853</td>\n",
       "      <td>1.015611</td>\n",
       "      <td>0.009972</td>\n",
       "    </tr>\n",
       "    <tr>\n",
       "      <th>974</th>\n",
       "      <td>8.871266</td>\n",
       "      <td>1.0</td>\n",
       "      <td>5.694582</td>\n",
       "      <td>4.307980</td>\n",
       "      <td>0.009986</td>\n",
       "    </tr>\n",
       "    <tr>\n",
       "      <th>975</th>\n",
       "      <td>7.642531</td>\n",
       "      <td>1.0</td>\n",
       "      <td>0.673718</td>\n",
       "      <td>1.498328</td>\n",
       "      <td>0.010008</td>\n",
       "    </tr>\n",
       "    <tr>\n",
       "      <th>976</th>\n",
       "      <td>15.891920</td>\n",
       "      <td>1.0</td>\n",
       "      <td>8.269141</td>\n",
       "      <td>7.389676</td>\n",
       "      <td>0.009991</td>\n",
       "    </tr>\n",
       "    <tr>\n",
       "      <th>977</th>\n",
       "      <td>24.265957</td>\n",
       "      <td>1.0</td>\n",
       "      <td>3.503232</td>\n",
       "      <td>7.033848</td>\n",
       "      <td>0.010035</td>\n",
       "    </tr>\n",
       "    <tr>\n",
       "      <th>978</th>\n",
       "      <td>6.455456</td>\n",
       "      <td>1.0</td>\n",
       "      <td>2.282017</td>\n",
       "      <td>1.970174</td>\n",
       "      <td>0.009997</td>\n",
       "    </tr>\n",
       "    <tr>\n",
       "      <th>979</th>\n",
       "      <td>5.216276</td>\n",
       "      <td>1.0</td>\n",
       "      <td>8.452131</td>\n",
       "      <td>4.781349</td>\n",
       "      <td>0.009963</td>\n",
       "    </tr>\n",
       "    <tr>\n",
       "      <th>980</th>\n",
       "      <td>0.161365</td>\n",
       "      <td>1.0</td>\n",
       "      <td>5.626455</td>\n",
       "      <td>2.097917</td>\n",
       "      <td>0.009965</td>\n",
       "    </tr>\n",
       "    <tr>\n",
       "      <th>981</th>\n",
       "      <td>10.919553</td>\n",
       "      <td>1.0</td>\n",
       "      <td>6.881187</td>\n",
       "      <td>5.373392</td>\n",
       "      <td>0.009985</td>\n",
       "    </tr>\n",
       "    <tr>\n",
       "      <th>982</th>\n",
       "      <td>-15.351331</td>\n",
       "      <td>1.0</td>\n",
       "      <td>9.464592</td>\n",
       "      <td>0.068045</td>\n",
       "      <td>0.009906</td>\n",
       "    </tr>\n",
       "    <tr>\n",
       "      <th>983</th>\n",
       "      <td>27.049639</td>\n",
       "      <td>1.0</td>\n",
       "      <td>4.130794</td>\n",
       "      <td>8.037152</td>\n",
       "      <td>0.010039</td>\n",
       "    </tr>\n",
       "    <tr>\n",
       "      <th>984</th>\n",
       "      <td>3.087547</td>\n",
       "      <td>1.0</td>\n",
       "      <td>0.166367</td>\n",
       "      <td>0.083747</td>\n",
       "      <td>0.009999</td>\n",
       "    </tr>\n",
       "    <tr>\n",
       "      <th>985</th>\n",
       "      <td>14.877431</td>\n",
       "      <td>1.0</td>\n",
       "      <td>4.981442</td>\n",
       "      <td>5.425073</td>\n",
       "      <td>0.010004</td>\n",
       "    </tr>\n",
       "    <tr>\n",
       "      <th>986</th>\n",
       "      <td>13.418637</td>\n",
       "      <td>1.0</td>\n",
       "      <td>1.133938</td>\n",
       "      <td>3.158415</td>\n",
       "      <td>0.010020</td>\n",
       "    </tr>\n",
       "    <tr>\n",
       "      <th>987</th>\n",
       "      <td>29.782077</td>\n",
       "      <td>1.0</td>\n",
       "      <td>4.088238</td>\n",
       "      <td>8.714800</td>\n",
       "      <td>0.010046</td>\n",
       "    </tr>\n",
       "    <tr>\n",
       "      <th>988</th>\n",
       "      <td>28.184980</td>\n",
       "      <td>1.0</td>\n",
       "      <td>2.210003</td>\n",
       "      <td>7.353746</td>\n",
       "      <td>0.010051</td>\n",
       "    </tr>\n",
       "    <tr>\n",
       "      <th>989</th>\n",
       "      <td>-12.678654</td>\n",
       "      <td>1.0</td>\n",
       "      <td>8.595511</td>\n",
       "      <td>0.327735</td>\n",
       "      <td>0.009917</td>\n",
       "    </tr>\n",
       "    <tr>\n",
       "      <th>990</th>\n",
       "      <td>21.051333</td>\n",
       "      <td>1.0</td>\n",
       "      <td>6.613851</td>\n",
       "      <td>7.788433</td>\n",
       "      <td>0.010012</td>\n",
       "    </tr>\n",
       "    <tr>\n",
       "      <th>991</th>\n",
       "      <td>17.726540</td>\n",
       "      <td>1.0</td>\n",
       "      <td>9.639483</td>\n",
       "      <td>8.470393</td>\n",
       "      <td>0.009988</td>\n",
       "    </tr>\n",
       "    <tr>\n",
       "      <th>992</th>\n",
       "      <td>6.828912</td>\n",
       "      <td>1.0</td>\n",
       "      <td>1.476160</td>\n",
       "      <td>1.691590</td>\n",
       "      <td>0.010002</td>\n",
       "    </tr>\n",
       "    <tr>\n",
       "      <th>993</th>\n",
       "      <td>34.379092</td>\n",
       "      <td>1.0</td>\n",
       "      <td>2.659965</td>\n",
       "      <td>9.160503</td>\n",
       "      <td>0.010065</td>\n",
       "    </tr>\n",
       "    <tr>\n",
       "      <th>994</th>\n",
       "      <td>22.354706</td>\n",
       "      <td>1.0</td>\n",
       "      <td>2.163896</td>\n",
       "      <td>5.894796</td>\n",
       "      <td>0.010037</td>\n",
       "    </tr>\n",
       "    <tr>\n",
       "      <th>995</th>\n",
       "      <td>12.202247</td>\n",
       "      <td>1.0</td>\n",
       "      <td>7.786878</td>\n",
       "      <td>6.161830</td>\n",
       "      <td>0.009984</td>\n",
       "    </tr>\n",
       "    <tr>\n",
       "      <th>996</th>\n",
       "      <td>7.484566</td>\n",
       "      <td>1.0</td>\n",
       "      <td>7.104052</td>\n",
       "      <td>4.657543</td>\n",
       "      <td>0.009975</td>\n",
       "    </tr>\n",
       "    <tr>\n",
       "      <th>997</th>\n",
       "      <td>6.539184</td>\n",
       "      <td>1.0</td>\n",
       "      <td>9.139920</td>\n",
       "      <td>5.391330</td>\n",
       "      <td>0.009963</td>\n",
       "    </tr>\n",
       "    <tr>\n",
       "      <th>998</th>\n",
       "      <td>17.985606</td>\n",
       "      <td>1.0</td>\n",
       "      <td>0.358797</td>\n",
       "      <td>3.857576</td>\n",
       "      <td>0.010035</td>\n",
       "    </tr>\n",
       "    <tr>\n",
       "      <th>999</th>\n",
       "      <td>8.327047</td>\n",
       "      <td>1.0</td>\n",
       "      <td>6.461883</td>\n",
       "      <td>4.505223</td>\n",
       "      <td>0.009980</td>\n",
       "    </tr>\n",
       "  </tbody>\n",
       "</table>\n",
       "<p>1000 rows × 5 columns</p>\n",
       "</div>"
      ],
      "text/plain": [
       "             0    1         2         3         4\n",
       "0     2.406640  1.0  2.569265  1.134234  0.009986\n",
       "1     3.579147  1.0  1.817105  1.008626  0.009992\n",
       "2     2.076401  1.0  9.596029  4.560576  0.009950\n",
       "3     2.801457  1.0  7.617839  3.754187  0.009961\n",
       "4     4.049240  1.0  7.622255  4.005385  0.009964\n",
       "5     5.330127  1.0  5.145334  3.119443  0.009980\n",
       "6    29.179641  1.0  5.182616  9.126426  0.010039\n",
       "7     2.558586  1.0  6.678984  3.211991  0.009965\n",
       "8    29.993368  1.0  5.908428  9.667707  0.010038\n",
       "9    17.700366  1.0  4.041164  5.650604  0.010016\n",
       "10   35.702711  1.0  2.318203  9.281217  0.010070\n",
       "11   28.894473  1.0  0.034924  6.475359  0.010064\n",
       "12   19.010946  1.0  4.640148  6.328101  0.010017\n",
       "13   -2.120491  1.0  4.320935  0.879485  0.009966\n",
       "14  -14.147678  1.0  9.818802  0.573952  0.009908\n",
       "15   13.152587  1.0  5.809111  5.404296  0.009996\n",
       "16   -0.370242  1.0  6.633755  2.452018  0.009958\n",
       "17    3.312297  1.0  0.138424  0.118587  0.010000\n",
       "18   14.005199  1.0  0.640186  3.077951  0.010024\n",
       "19   36.211635  1.0  2.202510  9.393952  0.010072\n",
       "20   15.047038  1.0  0.365499  3.193378  0.010028\n",
       "21   37.983204  1.0  0.605489  9.032790  0.010084\n",
       "22   20.637118  1.0  2.885253  5.800160  0.010029\n",
       "23    6.498452  1.0  2.708371  2.203921  0.009995\n",
       "24   28.253326  1.0  2.439213  7.479187  0.010050\n",
       "25   -5.695008  1.0  5.941358  0.761990  0.009948\n",
       "26   13.820767  1.0  0.815237  3.090816  0.010023\n",
       "27   11.395932  1.0  1.808344  2.982184  0.010012\n",
       "28   23.567673  1.0  1.784390  5.980605  0.010042\n",
       "29   32.757090  1.0  1.618274  8.242092  0.010066\n",
       "..         ...  ...       ...       ...       ...\n",
       "970  19.825640  1.0  2.984733  5.677481  0.010027\n",
       "971   5.241898  1.0  4.032216  2.506540  0.009985\n",
       "972   0.519956  1.0  3.612462  1.193987  0.009976\n",
       "973  -0.422038  1.0  3.858853  1.015611  0.009972\n",
       "974   8.871266  1.0  5.694582  4.307980  0.009986\n",
       "975   7.642531  1.0  0.673718  1.498328  0.010008\n",
       "976  15.891920  1.0  8.269141  7.389676  0.009991\n",
       "977  24.265957  1.0  3.503232  7.033848  0.010035\n",
       "978   6.455456  1.0  2.282017  1.970174  0.009997\n",
       "979   5.216276  1.0  8.452131  4.781349  0.009963\n",
       "980   0.161365  1.0  5.626455  2.097917  0.009965\n",
       "981  10.919553  1.0  6.881187  5.373392  0.009985\n",
       "982 -15.351331  1.0  9.464592  0.068045  0.009906\n",
       "983  27.049639  1.0  4.130794  8.037152  0.010039\n",
       "984   3.087547  1.0  0.166367  0.083747  0.009999\n",
       "985  14.877431  1.0  4.981442  5.425073  0.010004\n",
       "986  13.418637  1.0  1.133938  3.158415  0.010020\n",
       "987  29.782077  1.0  4.088238  8.714800  0.010046\n",
       "988  28.184980  1.0  2.210003  7.353746  0.010051\n",
       "989 -12.678654  1.0  8.595511  0.327735  0.009917\n",
       "990  21.051333  1.0  6.613851  7.788433  0.010012\n",
       "991  17.726540  1.0  9.639483  8.470393  0.009988\n",
       "992   6.828912  1.0  1.476160  1.691590  0.010002\n",
       "993  34.379092  1.0  2.659965  9.160503  0.010065\n",
       "994  22.354706  1.0  2.163896  5.894796  0.010037\n",
       "995  12.202247  1.0  7.786878  6.161830  0.009984\n",
       "996   7.484566  1.0  7.104052  4.657543  0.009975\n",
       "997   6.539184  1.0  9.139920  5.391330  0.009963\n",
       "998  17.985606  1.0  0.358797  3.857576  0.010035\n",
       "999   8.327047  1.0  6.461883  4.505223  0.009980\n",
       "\n",
       "[1000 rows x 5 columns]"
      ]
     },
     "execution_count": 222,
     "metadata": {},
     "output_type": "execute_result"
    }
   ],
   "source": [
    "file_data"
   ]
  },
  {
   "cell_type": "code",
   "execution_count": 223,
   "metadata": {
    "collapsed": false
   },
   "outputs": [],
   "source": [
    "data = np.array(pandas.DataFrame.as_matrix(file_data))  # преобразовываем данные в матрицу"
   ]
  },
  {
   "cell_type": "code",
   "execution_count": 243,
   "metadata": {
    "collapsed": false
   },
   "outputs": [],
   "source": [
    "X = np.array(data[:, 1:])"
   ]
  },
  {
   "cell_type": "code",
   "execution_count": 244,
   "metadata": {
    "collapsed": false
   },
   "outputs": [
    {
     "data": {
      "text/plain": [
       "array([[ 0.        ,  0.        ,  0.        ,  0.        ],\n",
       "       [ 1.        ,  1.81710485,  1.00862595,  0.00999217],\n",
       "       [ 1.        ,  9.59602944,  4.56057615,  0.00994965],\n",
       "       ..., \n",
       "       [ 1.        ,  9.13992001,  5.39132986,  0.00996256],\n",
       "       [ 1.        ,  0.35879715,  3.85757563,  0.01003507],\n",
       "       [ 1.        ,  6.46188344,  4.50522306,  0.00998042]])"
      ]
     },
     "execution_count": 244,
     "metadata": {},
     "output_type": "execute_result"
    }
   ],
   "source": [
    "X"
   ]
  },
  {
   "cell_type": "code",
   "execution_count": 245,
   "metadata": {
    "collapsed": true
   },
   "outputs": [],
   "source": [
    "Y = np.array(data[:, 1])"
   ]
  },
  {
   "cell_type": "code",
   "execution_count": 227,
   "metadata": {
    "collapsed": true
   },
   "outputs": [],
   "source": [
    "def get_est(X, Y):\n",
    "    return np.dot(np.dot(np.linalg.inv(np.dot(np.transpose(X), X)),np.transpose(X)), Y)"
   ]
  },
  {
   "cell_type": "code",
   "execution_count": 228,
   "metadata": {
    "collapsed": false
   },
   "outputs": [
    {
     "data": {
      "text/plain": [
       "array([  9.99999978e-01,  -8.69476935e-10,  -7.14862836e-10,\n",
       "        -2.20537186e-05])"
      ]
     },
     "execution_count": 228,
     "metadata": {},
     "output_type": "execute_result"
    }
   ],
   "source": [
    "theta_lin_regr = get_est(X, Y)\n",
    "theta_lin_regr"
   ]
  },
  {
   "cell_type": "code",
   "execution_count": 229,
   "metadata": {
    "collapsed": true
   },
   "outputs": [],
   "source": [
    "def get_est_2(X):\n",
    "    return np.linalg.det(np.dot(X.transpose(), X))"
   ]
  },
  {
   "cell_type": "code",
   "execution_count": 230,
   "metadata": {
    "collapsed": false
   },
   "outputs": [
    {
     "data": {
      "text/plain": [
       "0.67743983619219761"
      ]
     },
     "execution_count": 230,
     "metadata": {},
     "output_type": "execute_result"
    }
   ],
   "source": [
    "theta_det = get_est_2(X)\n",
    "theta_det"
   ]
  },
  {
   "cell_type": "code",
   "execution_count": 231,
   "metadata": {
    "collapsed": true
   },
   "outputs": [],
   "source": [
    "def theta(X, Y, lam):\n",
    "    s = np.dot(X.transpose(), X)\n",
    "    return np.dot(np.dot(np.linalg.inv(s + lam * np.eye(len(s))), X.transpose()), Y)"
   ]
  },
  {
   "cell_type": "code",
   "execution_count": 232,
   "metadata": {
    "collapsed": false
   },
   "outputs": [
    {
     "data": {
      "text/plain": [
       "array([  9.89546064e-01,   8.74634029e-04,   9.20921954e-04,\n",
       "         9.89545257e-03])"
      ]
     },
     "execution_count": 232,
     "metadata": {},
     "output_type": "execute_result"
    }
   ],
   "source": [
    "theta(X, Y, 1.5)"
   ]
  },
  {
   "cell_type": "code",
   "execution_count": 233,
   "metadata": {
    "collapsed": false
   },
   "outputs": [],
   "source": [
    "grid = np.arange(0, 100, 1)"
   ]
  },
  {
   "cell_type": "code",
   "execution_count": 234,
   "metadata": {
    "collapsed": true
   },
   "outputs": [],
   "source": [
    "def mat_with_deleted_row(X, i):\n",
    "    new_x = X\n",
    "    return np.delete(new_x, i, 0)"
   ]
  },
  {
   "cell_type": "code",
   "execution_count": 257,
   "metadata": {
    "collapsed": false
   },
   "outputs": [],
   "source": [
    "grid = np.arange(0, 100, 0.1)"
   ]
  },
  {
   "cell_type": "code",
   "execution_count": 286,
   "metadata": {
    "collapsed": false
   },
   "outputs": [],
   "source": [
    "sigmas = []\n",
    "temp = []\n",
    "for lam in grid:\n",
    "    for i in range(len(X)):\n",
    "        old_col = X[i].copy()\n",
    "        X[i] = np.array([0, 0, 0, 0])\n",
    "        coefs.append(theta(X, Y, lam))\n",
    "        X[i] = old_col    \n",
    "    sigmas.append(np.var(np.array(temp)))\n",
    "    temp = []"
   ]
  },
  {
   "cell_type": "code",
   "execution_count": 287,
   "metadata": {
    "collapsed": false
   },
   "outputs": [],
   "source": [
    "sigmas = np.array(sigmas)"
   ]
  },
  {
   "cell_type": "code",
   "execution_count": 288,
   "metadata": {
    "collapsed": false
   },
   "outputs": [],
   "source": [
    "def draw_plot(i, yl):\n",
    "    plt.figure(figsize=(15,9))\n",
    "    plt.plot(grid, sigma[:, i])\n",
    "    plt.ylim(0, yl)\n",
    "    plt.show()"
   ]
  },
  {
   "cell_type": "code",
   "execution_count": 289,
   "metadata": {
    "collapsed": false
   },
   "outputs": [
    {
     "data": {
      "image/png": "[encoded data removed]",
      "text/plain": [
       "<matplotlib.figure.Figure at 0x115da40f0>"
      ]
     },
     "metadata": {},
     "output_type": "display_data"
    }
   ],
   "source": [
    "draw_plot(0, 0.0000001)"
   ]
  },
  {
   "cell_type": "code",
   "execution_count": 290,
   "metadata": {
    "collapsed": false
   },
   "outputs": [
    {
     "data": {
      "image/png": "[encoded data removed]",
      "text/plain": [
       "<matplotlib.figure.Figure at 0x10e6848d0>"
      ]
     },
     "metadata": {},
     "output_type": "display_data"
    }
   ],
   "source": [
    "draw_plot(1, 0.0000000015)"
   ]
  },
  {
   "cell_type": "code",
   "execution_count": 291,
   "metadata": {
    "collapsed": false
   },
   "outputs": [
    {
     "data": {
      "image/png": "[encoded data removed]",
      "text/plain": [
       "<matplotlib.figure.Figure at 0x114b51c50>"
      ]
     },
     "metadata": {},
     "output_type": "display_data"
    }
   ],
   "source": [
    "draw_plot(2, 0.000000002)"
   ]
  },
  {
   "cell_type": "code",
   "execution_count": 292,
   "metadata": {
    "collapsed": false
   },
   "outputs": [
    {
     "data": {
      "image/png": "[encoded data removed]",
      "text/plain": [
       "<matplotlib.figure.Figure at 0x115d80780>"
      ]
     },
     "metadata": {},
     "output_type": "display_data"
    }
   ],
   "source": [
    "draw_plot(3, 0.00000000001)"
   ]
  },
  {
   "cell_type": "code",
   "execution_count": 281,
   "metadata": {
    "collapsed": false
   },
   "outputs": [
    {
     "data": {
      "text/plain": [
       "1"
      ]
     },
     "execution_count": 281,
     "metadata": {},
     "output_type": "execute_result"
    }
   ],
   "source": [
    "np.argmin(sigma[:, 0])"
   ]
  },
  {
   "cell_type": "code",
   "execution_count": null,
   "metadata": {
    "collapsed": true
   },
   "outputs": [],
   "source": []
  }
 ],
 "metadata": {
  "kernelspec": {
   "display_name": "Python 3",
   "language": "python",
   "name": "python3"
  },
  "language_info": {
   "codemirror_mode": {
    "name": "ipython",
    "version": 3
   },
   "file_extension": ".py",
   "mimetype": "text/x-python",
   "name": "python",
   "nbconvert_exporter": "python",
   "pygments_lexer": "ipython3",
   "version": "3.4.3"
  }
 },
 "nbformat": 4,
 "nbformat_minor": 0
}
