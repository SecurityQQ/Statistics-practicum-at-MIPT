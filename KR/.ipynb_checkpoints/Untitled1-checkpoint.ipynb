{
 "cells": [
  {
   "cell_type": "code",
   "execution_count": 76,
   "metadata": {
    "collapsed": true
   },
   "outputs": [],
   "source": [
    "import numpy as np\n",
    "import matplotlib.pylab as plt\n",
    "import pandas as pd\n",
    "import copy\n",
    "%matplotlib inline"
   ]
  },
  {
   "cell_type": "code",
   "execution_count": 55,
   "metadata": {
    "collapsed": true
   },
   "outputs": [],
   "source": [
    "data = pd.read_csv('16.csv', header=None)"
   ]
  },
  {
   "cell_type": "code",
   "execution_count": 56,
   "metadata": {
    "collapsed": false
   },
   "outputs": [
    {
     "data": {
      "text/html": [
       "<div>\n",
       "<table border=\"1\" class=\"dataframe\">\n",
       "  <thead>\n",
       "    <tr style=\"text-align: right;\">\n",
       "      <th></th>\n",
       "      <th>0</th>\n",
       "      <th>1</th>\n",
       "      <th>2</th>\n",
       "      <th>3</th>\n",
       "      <th>4</th>\n",
       "    </tr>\n",
       "  </thead>\n",
       "  <tbody>\n",
       "    <tr>\n",
       "      <th>0</th>\n",
       "      <td>2.406640</td>\n",
       "      <td>1.0</td>\n",
       "      <td>2.569265</td>\n",
       "      <td>1.134234</td>\n",
       "      <td>0.009986</td>\n",
       "    </tr>\n",
       "    <tr>\n",
       "      <th>1</th>\n",
       "      <td>3.579147</td>\n",
       "      <td>1.0</td>\n",
       "      <td>1.817105</td>\n",
       "      <td>1.008626</td>\n",
       "      <td>0.009992</td>\n",
       "    </tr>\n",
       "    <tr>\n",
       "      <th>2</th>\n",
       "      <td>2.076401</td>\n",
       "      <td>1.0</td>\n",
       "      <td>9.596029</td>\n",
       "      <td>4.560576</td>\n",
       "      <td>0.009950</td>\n",
       "    </tr>\n",
       "    <tr>\n",
       "      <th>3</th>\n",
       "      <td>2.801457</td>\n",
       "      <td>1.0</td>\n",
       "      <td>7.617839</td>\n",
       "      <td>3.754187</td>\n",
       "      <td>0.009961</td>\n",
       "    </tr>\n",
       "    <tr>\n",
       "      <th>4</th>\n",
       "      <td>4.049240</td>\n",
       "      <td>1.0</td>\n",
       "      <td>7.622255</td>\n",
       "      <td>4.005385</td>\n",
       "      <td>0.009964</td>\n",
       "    </tr>\n",
       "    <tr>\n",
       "      <th>5</th>\n",
       "      <td>5.330127</td>\n",
       "      <td>1.0</td>\n",
       "      <td>5.145334</td>\n",
       "      <td>3.119443</td>\n",
       "      <td>0.009980</td>\n",
       "    </tr>\n",
       "    <tr>\n",
       "      <th>6</th>\n",
       "      <td>29.179641</td>\n",
       "      <td>1.0</td>\n",
       "      <td>5.182616</td>\n",
       "      <td>9.126426</td>\n",
       "      <td>0.010039</td>\n",
       "    </tr>\n",
       "    <tr>\n",
       "      <th>7</th>\n",
       "      <td>2.558586</td>\n",
       "      <td>1.0</td>\n",
       "      <td>6.678984</td>\n",
       "      <td>3.211991</td>\n",
       "      <td>0.009965</td>\n",
       "    </tr>\n",
       "    <tr>\n",
       "      <th>8</th>\n",
       "      <td>29.993368</td>\n",
       "      <td>1.0</td>\n",
       "      <td>5.908428</td>\n",
       "      <td>9.667707</td>\n",
       "      <td>0.010038</td>\n",
       "    </tr>\n",
       "    <tr>\n",
       "      <th>9</th>\n",
       "      <td>17.700366</td>\n",
       "      <td>1.0</td>\n",
       "      <td>4.041164</td>\n",
       "      <td>5.650604</td>\n",
       "      <td>0.010016</td>\n",
       "    </tr>\n",
       "  </tbody>\n",
       "</table>\n",
       "</div>"
      ],
      "text/plain": [
       "           0    1         2         3         4\n",
       "0   2.406640  1.0  2.569265  1.134234  0.009986\n",
       "1   3.579147  1.0  1.817105  1.008626  0.009992\n",
       "2   2.076401  1.0  9.596029  4.560576  0.009950\n",
       "3   2.801457  1.0  7.617839  3.754187  0.009961\n",
       "4   4.049240  1.0  7.622255  4.005385  0.009964\n",
       "5   5.330127  1.0  5.145334  3.119443  0.009980\n",
       "6  29.179641  1.0  5.182616  9.126426  0.010039\n",
       "7   2.558586  1.0  6.678984  3.211991  0.009965\n",
       "8  29.993368  1.0  5.908428  9.667707  0.010038\n",
       "9  17.700366  1.0  4.041164  5.650604  0.010016"
      ]
     },
     "execution_count": 56,
     "metadata": {},
     "output_type": "execute_result"
    }
   ],
   "source": [
    "data.head(10)"
   ]
  },
  {
   "cell_type": "code",
   "execution_count": 57,
   "metadata": {
    "collapsed": false
   },
   "outputs": [],
   "source": [
    "X = np.matrix(data[data.columns[1:]])\n",
    "y = np.array(data[0])"
   ]
  },
  {
   "cell_type": "code",
   "execution_count": 58,
   "metadata": {
    "collapsed": false
   },
   "outputs": [],
   "source": [
    "A = X.T.dot(X)"
   ]
  },
  {
   "cell_type": "code",
   "execution_count": 59,
   "metadata": {
    "collapsed": false
   },
   "outputs": [
    {
     "data": {
      "text/plain": [
       "0.67743594580835187"
      ]
     },
     "execution_count": 59,
     "metadata": {},
     "output_type": "execute_result"
    }
   ],
   "source": [
    "np.linalg.det(A)"
   ]
  },
  {
   "cell_type": "code",
   "execution_count": 60,
   "metadata": {
    "collapsed": false
   },
   "outputs": [
    {
     "data": {
      "text/plain": [
       "matrix([[  1.00000000e+03,   4.82421831e+03,   5.05060680e+03,\n",
       "           1.00022625e+01],\n",
       "        [  4.82421831e+03,   3.16333309e+04,   2.42002354e+04,\n",
       "           4.81678489e+01],\n",
       "        [  5.05060680e+03,   2.42002354e+04,   3.38033637e+04,\n",
       "           5.06021006e+01],\n",
       "        [  1.00022625e+01,   4.81678489e+01,   5.06021006e+01,\n",
       "           1.00046953e-01]])"
      ]
     },
     "execution_count": 60,
     "metadata": {},
     "output_type": "execute_result"
    }
   ],
   "source": [
    "A"
   ]
  },
  {
   "cell_type": "code",
   "execution_count": 61,
   "metadata": {
    "collapsed": false
   },
   "outputs": [
    {
     "data": {
      "text/plain": [
       "matrix([[  5.82970442e+01,  -2.05354548e+00,   4.05503771e+00,\n",
       "          -5.52048495e+03]])"
      ]
     },
     "execution_count": 61,
     "metadata": {},
     "output_type": "execute_result"
    }
   ],
   "source": [
    "A.I.dot(X.T).dot(y)"
   ]
  },
  {
   "cell_type": "markdown",
   "metadata": {},
   "source": [
    "Последний коэффициент слишком большой. Можно сказать что модель переобучилась. Вызвано это тем, что в данных есть линейные зависимости, т.к. det(A) достаточно мал. Чтобы бороться с этим можно использовать регуляризацию, что и предлагается."
   ]
  },
  {
   "cell_type": "code",
   "execution_count": 75,
   "metadata": {
    "collapsed": false
   },
   "outputs": [],
   "source": [
    "C = np.linspace(0, 100, 1000)\n",
    "\n",
    "sigma = []\n",
    "for c in C:\n",
    "    coefs = []\n",
    "    for i in range(len(X)):\n",
    "        tmp = copy.deepcopy(X[i])\n",
    "        X[i] = np.array([0, 0, 0, 0])\n",
    "        coefs.append((X.T.dot(X) + c * np.eye(4)).I.dot(X.T).dot(y))\n",
    "        X[i] = copy.deepcopy(tmp)\n",
    "        \n",
    "    sigma.append(np.var(np.array(coefs), axis=0))"
   ]
  },
  {
   "cell_type": "code",
   "execution_count": 88,
   "metadata": {
    "collapsed": false
   },
   "outputs": [],
   "source": [
    "sigma = np.array(sigma)"
   ]
  },
  {
   "cell_type": "code",
   "execution_count": 98,
   "metadata": {
    "collapsed": false
   },
   "outputs": [
    {
     "data": {
      "text/plain": [
       "(0, 1e-06)"
      ]
     },
     "execution_count": 98,
     "metadata": {},
     "output_type": "execute_result"
    },
    {
     "data": {
      "image/png": "[encoded data removed]",
      "text/plain": [
       "<matplotlib.figure.Figure at 0x7fafb2203590>"
      ]
     },
     "metadata": {},
     "output_type": "display_data"
    }
   ],
   "source": [
    "plt.plot(range(len(X)), sigma[:,0,0])\n",
    "plt.ylim(0, 0.000001)"
   ]
  },
  {
   "cell_type": "code",
   "execution_count": 102,
   "metadata": {
    "collapsed": false
   },
   "outputs": [
    {
     "data": {
      "text/plain": [
       "(0, 2e-08)"
      ]
     },
     "execution_count": 102,
     "metadata": {},
     "output_type": "execute_result"
    },
    {
     "data": {
      "image/png": "[encoded data removed]",
      "text/plain": [
       "<matplotlib.figure.Figure at 0x7fafb1de5310>"
      ]
     },
     "metadata": {},
     "output_type": "display_data"
    }
   ],
   "source": [
    "plt.plot(range(len(X)), sigma[:,0,1])\n",
    "plt.plot(range(len(X)), sigma[:,0,2])\n",
    "plt.ylim(0, 0.00000002)"
   ]
  },
  {
   "cell_type": "code",
   "execution_count": 105,
   "metadata": {
    "collapsed": false
   },
   "outputs": [
    {
     "data": {
      "text/plain": [
       "(0, 1e-10)"
      ]
     },
     "execution_count": 105,
     "metadata": {},
     "output_type": "execute_result"
    },
    {
     "data": {
      "image/png": "[encoded data removed]",
      "text/plain": [
       "<matplotlib.figure.Figure at 0x7fafb1d2f0d0>"
      ]
     },
     "metadata": {},
     "output_type": "display_data"
    }
   ],
   "source": [
    "plt.plot(range(len(X)), sigma[:,0,3])\n",
    "plt.ylim(0, 0.0000000001)"
   ]
  },
  {
   "cell_type": "code",
   "execution_count": 110,
   "metadata": {
    "collapsed": false
   },
   "outputs": [
    {
     "data": {
      "text/plain": [
       "1.0010010010010011"
      ]
     },
     "execution_count": 110,
     "metadata": {},
     "output_type": "execute_result"
    }
   ],
   "source": [
    "C[np.argmin(sigma[:,0,0])]"
   ]
  },
  {
   "cell_type": "markdown",
   "metadata": {},
   "source": [
    "Оптимальное значение лямбда - 1"
   ]
  },
  {
   "cell_type": "code",
   "execution_count": 112,
   "metadata": {
    "collapsed": false
   },
   "outputs": [
    {
     "data": {
      "text/plain": [
       "matrix([[ 3.07231503, -1.99635673,  4.00121442,  0.03078305]])"
      ]
     },
     "execution_count": 112,
     "metadata": {},
     "output_type": "execute_result"
    }
   ],
   "source": [
    "(X.T.dot(X) + 1 * np.eye(4)).I.dot(X.T).dot(y)"
   ]
  },
  {
   "cell_type": "code",
   "execution_count": 114,
   "metadata": {
    "collapsed": false
   },
   "outputs": [
    {
     "data": {
      "text/plain": [
       "6.8178958310763734e-08"
      ]
     },
     "execution_count": 114,
     "metadata": {},
     "output_type": "execute_result"
    }
   ],
   "source": [
    "np.min(sigma[:,0,0])"
   ]
  },
  {
   "cell_type": "code",
   "execution_count": 130,
   "metadata": {
    "collapsed": true
   },
   "outputs": [],
   "source": [
    "min_bound = []\n",
    "max_bound = []\n",
    "for c in C:\n",
    "    coefs = []\n",
    "    for i in range(len(X)):\n",
    "        tmp = copy.deepcopy(X[i])\n",
    "        X[i] = np.array([0, 0, 0, 0])\n",
    "        coefs.append((X.T.dot(X) + c * np.eye(4)).I.dot(X.T).dot(y))\n",
    "        X[i] = copy.deepcopy(tmp)\n",
    "        \n",
    "    min_bound.append(np.min(np.array(coefs), axis=0))\n",
    "    max_bound.append(np.max(np.array(coefs), axis=0))"
   ]
  },
  {
   "cell_type": "code",
   "execution_count": 133,
   "metadata": {
    "collapsed": false
   },
   "outputs": [],
   "source": [
    "min_bound = np.array(min_bound)\n",
    "max_bound = np.array(max_bound)"
   ]
  },
  {
   "cell_type": "code",
   "execution_count": 155,
   "metadata": {
    "collapsed": false
   },
   "outputs": [
    {
     "data": {
      "text/plain": [
       "(0, 5)"
      ]
     },
     "execution_count": 155,
     "metadata": {},
     "output_type": "execute_result"
    },
    {
     "data": {
      "image/png": "[encoded data removed]",
      "text/plain": [
       "<matplotlib.figure.Figure at 0x7fafb220efd0>"
      ]
     },
     "metadata": {},
     "output_type": "display_data"
    }
   ],
   "source": [
    "plt.fill_between(range(1000), min_bound[:,0,0], max_bound[:,0,0])\n",
    "plt.ylim(0, 5)"
   ]
  },
  {
   "cell_type": "code",
   "execution_count": 164,
   "metadata": {
    "collapsed": false
   },
   "outputs": [
    {
     "data": {
      "text/plain": [
       "(-2.1, -1.8)"
      ]
     },
     "execution_count": 164,
     "metadata": {},
     "output_type": "execute_result"
    },
    {
     "data": {
      "image/png": "[encoded data removed]",
      "text/plain": [
       "<matplotlib.figure.Figure at 0x7fafb2264150>"
      ]
     },
     "metadata": {},
     "output_type": "display_data"
    }
   ],
   "source": [
    "plt.fill_between(range(1000), min_bound[:,0,1], max_bound[:,0,1])\n",
    "plt.ylim(-2.1, -1.8)"
   ]
  },
  {
   "cell_type": "code",
   "execution_count": 160,
   "metadata": {
    "collapsed": false
   },
   "outputs": [
    {
     "data": {
      "text/plain": [
       "(3.9, 4.1)"
      ]
     },
     "execution_count": 160,
     "metadata": {},
     "output_type": "execute_result"
    },
    {
     "data": {
      "image/png": "[encoded data removed]",
      "text/plain": [
       "<matplotlib.figure.Figure at 0x7fafb1ca59d0>"
      ]
     },
     "metadata": {},
     "output_type": "display_data"
    }
   ],
   "source": [
    "plt.fill_between(range(1000), min_bound[:,0,2], max_bound[:,0,2])\n",
    "plt.ylim(3.9, 4.1)"
   ]
  },
  {
   "cell_type": "code",
   "execution_count": 158,
   "metadata": {
    "collapsed": false
   },
   "outputs": [
    {
     "data": {
      "text/plain": [
       "(0, 0.05)"
      ]
     },
     "execution_count": 158,
     "metadata": {},
     "output_type": "execute_result"
    },
    {
     "data": {
      "image/png": "[encoded data removed]",
      "text/plain": [
       "<matplotlib.figure.Figure at 0x7fafb196c290>"
      ]
     },
     "metadata": {},
     "output_type": "display_data"
    }
   ],
   "source": [
    "plt.fill_between(range(1000), min_bound[:,0,3], max_bound[:,0,3])\n",
    "plt.ylim(0, 0.05)"
   ]
  },
  {
   "cell_type": "markdown",
   "metadata": {},
   "source": [
    "Похоже что первый столбец кореллирует с последним, а второй с третьим"
   ]
  },
  {
   "cell_type": "code",
   "execution_count": null,
   "metadata": {
    "collapsed": true
   },
   "outputs": [],
   "source": []
  }
 ],
 "metadata": {
  "kernelspec": {
   "display_name": "Python 3",
   "language": "python",
   "name": "python3"
  },
  "language_info": {
   "codemirror_mode": {
    "name": "ipython",
    "version": 3
   },
   "file_extension": ".py",
   "mimetype": "text/x-python",
   "name": "python",
   "nbconvert_exporter": "python",
   "pygments_lexer": "ipython3",
   "version": "3.4.3"
  }
 },
 "nbformat": 4,
 "nbformat_minor": 0
}
